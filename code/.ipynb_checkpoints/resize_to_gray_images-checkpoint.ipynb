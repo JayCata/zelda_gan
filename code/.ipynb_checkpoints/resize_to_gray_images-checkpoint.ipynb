{
 "cells": [
  {
   "cell_type": "code",
   "execution_count": 11,
   "metadata": {},
   "outputs": [],
   "source": [
    "# Import for Reszing and Gray\n",
    "import PIL\n",
    "from PIL import Image\n",
    "import os"
   ]
  },
  {
   "cell_type": "code",
   "execution_count": 12,
   "metadata": {},
   "outputs": [],
   "source": [
    "# Filepaths\n",
    "rotate_path = \"../rotated_images\"\n",
    "resize_path = \"../resized_images/Zelda\""
   ]
  },
  {
   "cell_type": "code",
   "execution_count": 13,
   "metadata": {},
   "outputs": [],
   "source": [
    "rotated_pictures = os.listdir(rotate_path)"
   ]
  },
  {
   "cell_type": "code",
   "execution_count": 14,
   "metadata": {},
   "outputs": [],
   "source": [
    "new_size = (40 , 30)"
   ]
  },
  {
   "cell_type": "code",
   "execution_count": 15,
   "metadata": {},
   "outputs": [],
   "source": [
    "for (i, picture) in enumerate(rotated_pictures):\n",
    "    image = Image.open(os.path.join(rotate_path, picture))\n",
    "    image = image.convert(\"L\")\n",
    "    image.thumbnail(size = new_size)\n",
    "    image.save(os.path.join(resize_path, \"gs_image_{iter}.jpg\".format(iter=i)))"
   ]
  }
 ],
 "metadata": {
  "kernelspec": {
   "display_name": "Python 3 (ipykernel)",
   "language": "python",
   "name": "python3"
  },
  "language_info": {
   "codemirror_mode": {
    "name": "ipython",
    "version": 3
   },
   "file_extension": ".py",
   "mimetype": "text/x-python",
   "name": "python",
   "nbconvert_exporter": "python",
   "pygments_lexer": "ipython3",
   "version": "3.9.9"
  }
 },
 "nbformat": 4,
 "nbformat_minor": 4
}
